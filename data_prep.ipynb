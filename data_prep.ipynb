{
 "cells": [
  {
   "cell_type": "code",
   "execution_count": 55,
   "id": "5b33934d-69b3-47fa-9786-10e6dbb91bc7",
   "metadata": {},
   "outputs": [],
   "source": [
    "import pandas as pd\n",
    "import numpy as np"
   ]
  },
  {
   "cell_type": "code",
   "execution_count": 56,
   "id": "cb2023f7-4cf5-4f8a-8e32-8cfc38a63733",
   "metadata": {},
   "outputs": [],
   "source": [
    "data = pd.read_csv(\"data/raw/ACPs_Breast_cancer.csv\")"
   ]
  },
  {
   "cell_type": "code",
   "execution_count": 57,
   "id": "39c8d67b-9039-4f04-9118-c0d886b43c26",
   "metadata": {},
   "outputs": [],
   "source": [
    "data.drop('ID', axis=1, inplace=True)"
   ]
  },
  {
   "cell_type": "code",
   "execution_count": 61,
   "id": "3347471d-d7fe-4927-aba7-612c4a01833f",
   "metadata": {},
   "outputs": [],
   "source": [
    "data['class'].loc[data['class'].str.contains('inactive')] = '0'\n",
    "data['class'].loc[data['class'].str.contains('active')] = '1'\n",
    "data['class'] = data['class'].astype(int)"
   ]
  },
  {
   "cell_type": "code",
   "execution_count": 62,
   "id": "e6795bdf-d2de-4057-8cf6-abd4cba31c9d",
   "metadata": {},
   "outputs": [],
   "source": [
    "data['sequence'] = data['sequence'].map(lambda x: [str(y) for y in x])"
   ]
  },
  {
   "cell_type": "code",
   "execution_count": 66,
   "id": "79ecbcce-103f-4c33-b98a-f413da03e844",
   "metadata": {},
   "outputs": [
    {
     "data": {
      "text/plain": [
       "0    833\n",
       "1    116\n",
       "Name: class, dtype: int64"
      ]
     },
     "execution_count": 66,
     "metadata": {},
     "output_type": "execute_result"
    }
   ],
   "source": [
    "data['class'].value_counts()"
   ]
  },
  {
   "cell_type": "code",
   "execution_count": 68,
   "id": "79067760-c409-4f97-9698-806f8742eb4e",
   "metadata": {},
   "outputs": [],
   "source": [
    "data.to_csv('./data/preprocessed/ACPs_Breast_cancer.csv', index=False)"
   ]
  }
 ],
 "metadata": {
  "kernelspec": {
   "display_name": "Python 3 (ipykernel)",
   "language": "python",
   "name": "python3"
  },
  "language_info": {
   "codemirror_mode": {
    "name": "ipython",
    "version": 3
   },
   "file_extension": ".py",
   "mimetype": "text/x-python",
   "name": "python",
   "nbconvert_exporter": "python",
   "pygments_lexer": "ipython3",
   "version": "3.8.11"
  }
 },
 "nbformat": 4,
 "nbformat_minor": 5
}
